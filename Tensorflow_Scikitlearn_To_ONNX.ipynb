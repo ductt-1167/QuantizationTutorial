{
  "nbformat": 4,
  "nbformat_minor": 0,
  "metadata": {
    "colab": {
      "name": "Tensorflow-Scikitlearn_To_ONNX.ipynb",
      "provenance": [],
      "collapsed_sections": [],
      "mount_file_id": "15oJH-3tN13FCCT7CW8Bfnna_4GJW7w1i",
      "authorship_tag": "ABX9TyNEb8kzwKGI8HTUBsrFPcsh",
      "include_colab_link": true
    },
    "kernelspec": {
      "name": "python3",
      "display_name": "Python 3"
    },
    "language_info": {
      "name": "python"
    },
    "accelerator": "GPU"
  },
  "cells": [
    {
      "cell_type": "markdown",
      "metadata": {
        "id": "view-in-github",
        "colab_type": "text"
      },
      "source": [
        "<a href=\"https://colab.research.google.com/github/ductt-1167/QuantizationTutorial/blob/main/Tensorflow_Scikitlearn_To_ONNX.ipynb\" target=\"_parent\"><img src=\"https://colab.research.google.com/assets/colab-badge.svg\" alt=\"Open In Colab\"/></a>"
      ]
    },
    {
      "cell_type": "code",
      "source": [
        "!pip install tf2onnx\n",
        "!pip install onnxruntime"
      ],
      "metadata": {
        "colab": {
          "base_uri": "https://localhost:8080/"
        },
        "id": "49b22bLEzSqu",
        "outputId": "e7aa365e-b9ce-4920-d2f6-71ba375617aa"
      },
      "execution_count": 1,
      "outputs": [
        {
          "output_type": "stream",
          "name": "stdout",
          "text": [
            "Requirement already satisfied: tf2onnx in /usr/local/lib/python3.7/dist-packages (1.9.3)\n",
            "Requirement already satisfied: numpy>=1.14.1 in /usr/local/lib/python3.7/dist-packages (from tf2onnx) (1.21.5)\n",
            "Requirement already satisfied: requests in /usr/local/lib/python3.7/dist-packages (from tf2onnx) (2.23.0)\n",
            "Requirement already satisfied: flatbuffers~=1.12 in /usr/local/lib/python3.7/dist-packages (from tf2onnx) (1.12)\n",
            "Requirement already satisfied: six in /usr/local/lib/python3.7/dist-packages (from tf2onnx) (1.15.0)\n",
            "Requirement already satisfied: onnx>=1.4.1 in /usr/local/lib/python3.7/dist-packages (from tf2onnx) (1.11.0)\n",
            "Requirement already satisfied: protobuf>=3.12.2 in /usr/local/lib/python3.7/dist-packages (from onnx>=1.4.1->tf2onnx) (3.17.3)\n",
            "Requirement already satisfied: typing-extensions>=3.6.2.1 in /usr/local/lib/python3.7/dist-packages (from onnx>=1.4.1->tf2onnx) (3.10.0.2)\n",
            "Requirement already satisfied: idna<3,>=2.5 in /usr/local/lib/python3.7/dist-packages (from requests->tf2onnx) (2.10)\n",
            "Requirement already satisfied: certifi>=2017.4.17 in /usr/local/lib/python3.7/dist-packages (from requests->tf2onnx) (2021.10.8)\n",
            "Requirement already satisfied: chardet<4,>=3.0.2 in /usr/local/lib/python3.7/dist-packages (from requests->tf2onnx) (3.0.4)\n",
            "Requirement already satisfied: urllib3!=1.25.0,!=1.25.1,<1.26,>=1.21.1 in /usr/local/lib/python3.7/dist-packages (from requests->tf2onnx) (1.24.3)\n",
            "Requirement already satisfied: onnxruntime in /usr/local/lib/python3.7/dist-packages (1.10.0)\n",
            "Requirement already satisfied: protobuf in /usr/local/lib/python3.7/dist-packages (from onnxruntime) (3.17.3)\n",
            "Requirement already satisfied: numpy>=1.16.6 in /usr/local/lib/python3.7/dist-packages (from onnxruntime) (1.21.5)\n",
            "Requirement already satisfied: flatbuffers in /usr/local/lib/python3.7/dist-packages (from onnxruntime) (1.12)\n",
            "Requirement already satisfied: six>=1.9 in /usr/local/lib/python3.7/dist-packages (from protobuf->onnxruntime) (1.15.0)\n"
          ]
        }
      ]
    },
    {
      "cell_type": "markdown",
      "source": [
        "# Converting Tensorflow to ONNX with basic CNN and MNIST dataset "
      ],
      "metadata": {
        "id": "9urNHSX5XzIV"
      }
    },
    {
      "cell_type": "markdown",
      "source": [
        "**Build model**"
      ],
      "metadata": {
        "id": "6qOhQzYPYLLc"
      }
    },
    {
      "cell_type": "code",
      "execution_count": null,
      "metadata": {
        "id": "k4Tz7a3AXuK_"
      },
      "outputs": [],
      "source": [
        "import numpy as np\n",
        "import tensorflow as tf"
      ]
    },
    {
      "cell_type": "code",
      "source": [
        "MODEL_TF_DIR = \"/content/drive/MyDrive/Colab Notebooks/ONNX/model_MNIST\"\n",
        "MODEL_TF2ONNX_DIR = \"/content/model_MNIST_tf.onnx\""
      ],
      "metadata": {
        "id": "sXlfkFLgxpHW"
      },
      "execution_count": 3,
      "outputs": []
    },
    {
      "cell_type": "code",
      "source": [
        "#@title Build model\n",
        "model = tf.keras.models.Sequential([\n",
        "    tf.keras.layers.Input(shape=(28, 28), name='input'),\n",
        "    tf.keras.layers.LSTM(20, time_major=False, return_sequences=True),\n",
        "    tf.keras.layers.Flatten(),\n",
        "    tf.keras.layers.Dense(10, activation='softmax', name='output')\n",
        "])\n",
        "model.compile(optimizer='adam',\n",
        "              loss='sparse_categorical_crossentropy',\n",
        "              metrics=['accuracy'])\n",
        "model.summary()"
      ],
      "metadata": {
        "colab": {
          "base_uri": "https://localhost:8080/"
        },
        "id": "UT6rLpW2YPDL",
        "outputId": "d385a09b-bc41-47b0-f548-7fc5f11e3db3"
      },
      "execution_count": 4,
      "outputs": [
        {
          "output_type": "stream",
          "name": "stdout",
          "text": [
            "Model: \"sequential\"\n",
            "_________________________________________________________________\n",
            " Layer (type)                Output Shape              Param #   \n",
            "=================================================================\n",
            " lstm (LSTM)                 (None, 28, 20)            3920      \n",
            "                                                                 \n",
            " flatten (Flatten)           (None, 560)               0         \n",
            "                                                                 \n",
            " output (Dense)              (None, 10)                5610      \n",
            "                                                                 \n",
            "=================================================================\n",
            "Total params: 9,530\n",
            "Trainable params: 9,530\n",
            "Non-trainable params: 0\n",
            "_________________________________________________________________\n"
          ]
        }
      ]
    },
    {
      "cell_type": "code",
      "source": [
        "#@title load MNIST dataset and training model\n",
        "# Load MNIST dataset.\n",
        "(x_train, y_train), (x_test, y_test) = tf.keras.datasets.mnist.load_data()\n",
        "x_train, x_test = x_train / 255.0, x_test / 255.0\n",
        "x_train = x_train.astype(np.float32)\n",
        "x_test = x_test.astype(np.float32)\n",
        "\n",
        "print(x_train.shape, type(x_train))\n",
        "\n",
        "# fit model\n",
        "EPOCHS=50\n",
        "BATCH_SIZE=64\n",
        "model.fit(x_train, y_train, epochs=EPOCHS, batch_size=BATCH_SIZE)\n",
        "model.evaluate(x_test, y_test, verbose=0)\n",
        "\n",
        "model.save(MODEL_TF_DIR)"
      ],
      "metadata": {
        "colab": {
          "base_uri": "https://localhost:8080/"
        },
        "id": "Oc7n079BYRSj",
        "outputId": "e5b7594c-df3f-41ee-c117-0d52ee11cee9"
      },
      "execution_count": 5,
      "outputs": [
        {
          "output_type": "stream",
          "name": "stdout",
          "text": [
            "Downloading data from https://storage.googleapis.com/tensorflow/tf-keras-datasets/mnist.npz\n",
            "11493376/11490434 [==============================] - 0s 0us/step\n",
            "11501568/11490434 [==============================] - 0s 0us/step\n",
            "(60000, 28, 28) <class 'numpy.ndarray'>\n",
            "Epoch 1/50\n",
            "938/938 [==============================] - 17s 11ms/step - loss: 0.4217 - accuracy: 0.8746\n",
            "Epoch 2/50\n",
            "938/938 [==============================] - 11s 11ms/step - loss: 0.1453 - accuracy: 0.9572\n",
            "Epoch 3/50\n",
            "938/938 [==============================] - 10s 11ms/step - loss: 0.1070 - accuracy: 0.9683\n",
            "Epoch 4/50\n",
            "938/938 [==============================] - 9s 10ms/step - loss: 0.0868 - accuracy: 0.9740\n",
            "Epoch 5/50\n",
            "938/938 [==============================] - 7s 8ms/step - loss: 0.0738 - accuracy: 0.9771\n",
            "Epoch 6/50\n",
            "938/938 [==============================] - 7s 8ms/step - loss: 0.0655 - accuracy: 0.9799\n",
            "Epoch 7/50\n",
            "938/938 [==============================] - 8s 9ms/step - loss: 0.0576 - accuracy: 0.9819\n",
            "Epoch 8/50\n",
            "938/938 [==============================] - 9s 10ms/step - loss: 0.0522 - accuracy: 0.9841\n",
            "Epoch 9/50\n",
            "938/938 [==============================] - 7s 8ms/step - loss: 0.0492 - accuracy: 0.9846\n",
            "Epoch 10/50\n",
            "938/938 [==============================] - 7s 8ms/step - loss: 0.0453 - accuracy: 0.9855\n",
            "Epoch 11/50\n",
            "938/938 [==============================] - 7s 8ms/step - loss: 0.0420 - accuracy: 0.9870\n",
            "Epoch 12/50\n",
            "938/938 [==============================] - 7s 8ms/step - loss: 0.0395 - accuracy: 0.9877\n",
            "Epoch 13/50\n",
            "938/938 [==============================] - 7s 8ms/step - loss: 0.0365 - accuracy: 0.9888\n",
            "Epoch 14/50\n",
            "938/938 [==============================] - 7s 8ms/step - loss: 0.0355 - accuracy: 0.9891\n",
            "Epoch 15/50\n",
            "938/938 [==============================] - 7s 8ms/step - loss: 0.0330 - accuracy: 0.9899\n",
            "Epoch 16/50\n",
            "938/938 [==============================] - 7s 8ms/step - loss: 0.0316 - accuracy: 0.9901\n",
            "Epoch 17/50\n",
            "938/938 [==============================] - 8s 8ms/step - loss: 0.0301 - accuracy: 0.9908\n",
            "Epoch 18/50\n",
            "938/938 [==============================] - 7s 8ms/step - loss: 0.0292 - accuracy: 0.9911\n",
            "Epoch 19/50\n",
            "938/938 [==============================] - 7s 8ms/step - loss: 0.0279 - accuracy: 0.9916\n",
            "Epoch 20/50\n",
            "938/938 [==============================] - 7s 8ms/step - loss: 0.0267 - accuracy: 0.9916\n",
            "Epoch 21/50\n",
            "938/938 [==============================] - 7s 8ms/step - loss: 0.0249 - accuracy: 0.9922\n",
            "Epoch 22/50\n",
            "938/938 [==============================] - 7s 8ms/step - loss: 0.0238 - accuracy: 0.9925\n",
            "Epoch 23/50\n",
            "938/938 [==============================] - 7s 8ms/step - loss: 0.0229 - accuracy: 0.9930\n",
            "Epoch 24/50\n",
            "938/938 [==============================] - 8s 9ms/step - loss: 0.0215 - accuracy: 0.9931\n",
            "Epoch 25/50\n",
            "938/938 [==============================] - 8s 9ms/step - loss: 0.0209 - accuracy: 0.9936\n",
            "Epoch 26/50\n",
            "938/938 [==============================] - 7s 8ms/step - loss: 0.0196 - accuracy: 0.9939\n",
            "Epoch 27/50\n",
            "938/938 [==============================] - 7s 8ms/step - loss: 0.0187 - accuracy: 0.9942\n",
            "Epoch 28/50\n",
            "938/938 [==============================] - 8s 8ms/step - loss: 0.0180 - accuracy: 0.9945\n",
            "Epoch 29/50\n",
            "938/938 [==============================] - 8s 8ms/step - loss: 0.0172 - accuracy: 0.9944\n",
            "Epoch 30/50\n",
            "938/938 [==============================] - 7s 8ms/step - loss: 0.0160 - accuracy: 0.9950\n",
            "Epoch 31/50\n",
            "938/938 [==============================] - 7s 8ms/step - loss: 0.0157 - accuracy: 0.9952\n",
            "Epoch 32/50\n",
            "938/938 [==============================] - 7s 8ms/step - loss: 0.0153 - accuracy: 0.9952\n",
            "Epoch 33/50\n",
            "938/938 [==============================] - 7s 8ms/step - loss: 0.0143 - accuracy: 0.9955\n",
            "Epoch 34/50\n",
            "938/938 [==============================] - 7s 8ms/step - loss: 0.0146 - accuracy: 0.9954\n",
            "Epoch 35/50\n",
            "938/938 [==============================] - 7s 8ms/step - loss: 0.0130 - accuracy: 0.9962\n",
            "Epoch 36/50\n",
            "938/938 [==============================] - 7s 8ms/step - loss: 0.0125 - accuracy: 0.9961\n",
            "Epoch 37/50\n",
            "938/938 [==============================] - 7s 8ms/step - loss: 0.0121 - accuracy: 0.9965\n",
            "Epoch 38/50\n",
            "938/938 [==============================] - 7s 8ms/step - loss: 0.0117 - accuracy: 0.9964\n",
            "Epoch 39/50\n",
            "938/938 [==============================] - 8s 8ms/step - loss: 0.0115 - accuracy: 0.9965\n",
            "Epoch 40/50\n",
            "938/938 [==============================] - 7s 8ms/step - loss: 0.0105 - accuracy: 0.9970\n",
            "Epoch 41/50\n",
            "938/938 [==============================] - 7s 8ms/step - loss: 0.0107 - accuracy: 0.9968\n",
            "Epoch 42/50\n",
            "938/938 [==============================] - 7s 8ms/step - loss: 0.0102 - accuracy: 0.9970\n",
            "Epoch 43/50\n",
            "938/938 [==============================] - 7s 8ms/step - loss: 0.0095 - accuracy: 0.9972\n",
            "Epoch 44/50\n",
            "938/938 [==============================] - 8s 8ms/step - loss: 0.0089 - accuracy: 0.9975\n",
            "Epoch 45/50\n",
            "938/938 [==============================] - 7s 8ms/step - loss: 0.0086 - accuracy: 0.9975\n",
            "Epoch 46/50\n",
            "938/938 [==============================] - 7s 8ms/step - loss: 0.0089 - accuracy: 0.9972\n",
            "Epoch 47/50\n",
            "938/938 [==============================] - 7s 8ms/step - loss: 0.0085 - accuracy: 0.9976\n",
            "Epoch 48/50\n",
            "938/938 [==============================] - 7s 8ms/step - loss: 0.0080 - accuracy: 0.9977\n",
            "Epoch 49/50\n",
            "938/938 [==============================] - 7s 8ms/step - loss: 0.0072 - accuracy: 0.9983\n",
            "Epoch 50/50\n",
            "938/938 [==============================] - 7s 8ms/step - loss: 0.0080 - accuracy: 0.9976\n"
          ]
        },
        {
          "output_type": "stream",
          "name": "stderr",
          "text": [
            "WARNING:absl:Found untraced functions such as lstm_cell_layer_call_fn, lstm_cell_layer_call_and_return_conditional_losses while saving (showing 2 of 2). These functions will not be directly callable after loading.\n"
          ]
        },
        {
          "output_type": "stream",
          "name": "stdout",
          "text": [
            "INFO:tensorflow:Assets written to: /content/drive/MyDrive/Colab Notebooks/ONNX/model_MNIST/assets\n"
          ]
        },
        {
          "output_type": "stream",
          "name": "stderr",
          "text": [
            "INFO:tensorflow:Assets written to: /content/drive/MyDrive/Colab Notebooks/ONNX/model_MNIST/assets\n",
            "WARNING:absl:<keras.layers.recurrent.LSTMCell object at 0x7fe883c73a90> has the same name 'LSTMCell' as a built-in Keras object. Consider renaming <class 'keras.layers.recurrent.LSTMCell'> to avoid naming conflicts when loading with `tf.keras.models.load_model`. If renaming is not possible, pass the object in the `custom_objects` parameter of the load function.\n"
          ]
        }
      ]
    },
    {
      "cell_type": "markdown",
      "source": [
        "**Convert to TFLite and save**"
      ],
      "metadata": {
        "id": "WVkKKvfAxDTI"
      }
    },
    {
      "cell_type": "markdown",
      "source": [
        "# Convert model to ONNX"
      ],
      "metadata": {
        "id": "Xf75-IwLyk-_"
      }
    },
    {
      "cell_type": "code",
      "source": [
        "import tf2onnx\n",
        "import onnxruntime as ort\n",
        "import onnx"
      ],
      "metadata": {
        "id": "8FEIyBHo0FBg"
      },
      "execution_count": 7,
      "outputs": []
    },
    {
      "cell_type": "code",
      "source": [
        "#@title From model after trained (not saved model) \n",
        "# load model\n",
        "model = tf.keras.models.load_model(MODEL_TF_DIR)\n",
        "model.summary()\n",
        "\n",
        "# Use from_function for tf functions\n",
        "onnx_model, _ = tf2onnx.convert.from_keras(model, opset=13)\n",
        "onnx.save(onnx_model, MODEL_TF2ONNX_DIR)"
      ],
      "metadata": {
        "colab": {
          "base_uri": "https://localhost:8080/"
        },
        "id": "8319ggxxysUb",
        "outputId": "78b12175-ad56-4ded-eb21-582d4242cdb3"
      },
      "execution_count": 37,
      "outputs": [
        {
          "output_type": "stream",
          "name": "stdout",
          "text": [
            "Model: \"sequential\"\n",
            "_________________________________________________________________\n",
            " Layer (type)                Output Shape              Param #   \n",
            "=================================================================\n",
            " lstm (LSTM)                 (None, 28, 20)            3920      \n",
            "                                                                 \n",
            " flatten (Flatten)           (None, 560)               0         \n",
            "                                                                 \n",
            " output (Dense)              (None, 10)                5610      \n",
            "                                                                 \n",
            "=================================================================\n",
            "Total params: 9,530\n",
            "Trainable params: 9,530\n",
            "Non-trainable params: 0\n",
            "_________________________________________________________________\n"
          ]
        }
      ]
    },
    {
      "cell_type": "code",
      "source": [
        "#@title From saved model (model.pb) (OTHER)\n",
        "# !python -m tf2onnx.convert --saved-model $MODEL_TF_DIR --output $MODEL_TF2ONNX_DIR --opset 13"
      ],
      "metadata": {
        "id": "Q98wEhRfy9Gs"
      },
      "execution_count": null,
      "outputs": []
    },
    {
      "cell_type": "markdown",
      "source": [
        "# Test models"
      ],
      "metadata": {
        "id": "70Nz7S9dVIUS"
      }
    },
    {
      "cell_type": "markdown",
      "source": [
        "Tensorflow model vs ONNX model"
      ],
      "metadata": {
        "id": "1BC7ct4PVuod"
      }
    },
    {
      "cell_type": "code",
      "source": [
        "model_tf = tf.keras.models.load_model(MODEL_TF_DIR)\n",
        "\n",
        "sess = ort.InferenceSession(MODEL_TF2ONNX_DIR)\n",
        "input_name = sess.get_inputs()[0].name\n",
        "label_name = sess.get_outputs()[0].name\n",
        "\n",
        "TEST_CASES = len(x_test)\n",
        "expected = model.predict(x_test)\n",
        "\n",
        "result = sess.run([label_name], {input_name:x_test})  # get the predict of ONNX model\n",
        "count=0\n",
        "for ort_res, tf_res in zip(expected , result ):\n",
        "  try:\n",
        "    np.testing.assert_allclose(ort_res, tf_res, rtol=1e-5, atol=1e-5)\n",
        "  except:\n",
        "    count+=1\n",
        "\n",
        "print(\"Results have {count} not match in total {total} sample\".format(count=count, total=len(x_test)))"
      ],
      "metadata": {
        "colab": {
          "base_uri": "https://localhost:8080/"
        },
        "id": "TbMreZJ5VKqO",
        "outputId": "575a8972-f710-4f2a-9f7b-a57e74f58011"
      },
      "execution_count": 46,
      "outputs": [
        {
          "output_type": "stream",
          "name": "stdout",
          "text": [
            "Results have 1 not match in total 10000 sample\n"
          ]
        }
      ]
    },
    {
      "cell_type": "markdown",
      "source": [
        "# scikit-learn to ONNX"
      ],
      "metadata": {
        "id": "kF0dHTkqtfwy"
      }
    },
    {
      "cell_type": "code",
      "source": [
        "!pip install skl2onnx "
      ],
      "metadata": {
        "colab": {
          "base_uri": "https://localhost:8080/"
        },
        "id": "_BdvP-B2tz7E",
        "outputId": "338c0cfa-63f0-404f-d3d8-e73656d15125"
      },
      "execution_count": 32,
      "outputs": [
        {
          "output_type": "stream",
          "name": "stdout",
          "text": [
            "Collecting skl2onnx\n",
            "  Downloading skl2onnx-1.10.4-py2.py3-none-any.whl (273 kB)\n",
            "\u001b[?25l\r\u001b[K     |█▏                              | 10 kB 24.5 MB/s eta 0:00:01\r\u001b[K     |██▍                             | 20 kB 24.2 MB/s eta 0:00:01\r\u001b[K     |███▋                            | 30 kB 11.8 MB/s eta 0:00:01\r\u001b[K     |████▉                           | 40 kB 9.6 MB/s eta 0:00:01\r\u001b[K     |██████                          | 51 kB 3.8 MB/s eta 0:00:01\r\u001b[K     |███████▏                        | 61 kB 4.5 MB/s eta 0:00:01\r\u001b[K     |████████▍                       | 71 kB 4.7 MB/s eta 0:00:01\r\u001b[K     |█████████▋                      | 81 kB 4.5 MB/s eta 0:00:01\r\u001b[K     |██████████▊                     | 92 kB 5.0 MB/s eta 0:00:01\r\u001b[K     |████████████                    | 102 kB 4.3 MB/s eta 0:00:01\r\u001b[K     |█████████████▏                  | 112 kB 4.3 MB/s eta 0:00:01\r\u001b[K     |██████████████▍                 | 122 kB 4.3 MB/s eta 0:00:01\r\u001b[K     |███████████████▌                | 133 kB 4.3 MB/s eta 0:00:01\r\u001b[K     |████████████████▊               | 143 kB 4.3 MB/s eta 0:00:01\r\u001b[K     |██████████████████              | 153 kB 4.3 MB/s eta 0:00:01\r\u001b[K     |███████████████████▏            | 163 kB 4.3 MB/s eta 0:00:01\r\u001b[K     |████████████████████▎           | 174 kB 4.3 MB/s eta 0:00:01\r\u001b[K     |█████████████████████▌          | 184 kB 4.3 MB/s eta 0:00:01\r\u001b[K     |██████████████████████▊         | 194 kB 4.3 MB/s eta 0:00:01\r\u001b[K     |████████████████████████        | 204 kB 4.3 MB/s eta 0:00:01\r\u001b[K     |█████████████████████████▏      | 215 kB 4.3 MB/s eta 0:00:01\r\u001b[K     |██████████████████████████▎     | 225 kB 4.3 MB/s eta 0:00:01\r\u001b[K     |███████████████████████████▌    | 235 kB 4.3 MB/s eta 0:00:01\r\u001b[K     |████████████████████████████▊   | 245 kB 4.3 MB/s eta 0:00:01\r\u001b[K     |██████████████████████████████  | 256 kB 4.3 MB/s eta 0:00:01\r\u001b[K     |███████████████████████████████ | 266 kB 4.3 MB/s eta 0:00:01\r\u001b[K     |████████████████████████████████| 273 kB 4.3 MB/s \n",
            "\u001b[?25hRequirement already satisfied: protobuf in /usr/local/lib/python3.7/dist-packages (from skl2onnx) (3.17.3)\n",
            "Requirement already satisfied: scikit-learn>=0.19 in /usr/local/lib/python3.7/dist-packages (from skl2onnx) (1.0.2)\n",
            "Requirement already satisfied: onnx>=1.2.1 in /usr/local/lib/python3.7/dist-packages (from skl2onnx) (1.11.0)\n",
            "Requirement already satisfied: scipy>=1.0 in /usr/local/lib/python3.7/dist-packages (from skl2onnx) (1.4.1)\n",
            "Requirement already satisfied: numpy>=1.15 in /usr/local/lib/python3.7/dist-packages (from skl2onnx) (1.21.5)\n",
            "Collecting onnxconverter-common>=1.7.0\n",
            "  Downloading onnxconverter_common-1.9.0-py2.py3-none-any.whl (78 kB)\n",
            "\u001b[K     |████████████████████████████████| 78 kB 6.4 MB/s \n",
            "\u001b[?25hRequirement already satisfied: typing-extensions>=3.6.2.1 in /usr/local/lib/python3.7/dist-packages (from onnx>=1.2.1->skl2onnx) (3.10.0.2)\n",
            "Requirement already satisfied: six>=1.9 in /usr/local/lib/python3.7/dist-packages (from protobuf->skl2onnx) (1.15.0)\n",
            "Requirement already satisfied: joblib>=0.11 in /usr/local/lib/python3.7/dist-packages (from scikit-learn>=0.19->skl2onnx) (1.1.0)\n",
            "Requirement already satisfied: threadpoolctl>=2.0.0 in /usr/local/lib/python3.7/dist-packages (from scikit-learn>=0.19->skl2onnx) (3.1.0)\n",
            "Installing collected packages: onnxconverter-common, skl2onnx\n",
            "Successfully installed onnxconverter-common-1.9.0 skl2onnx-1.10.4\n"
          ]
        }
      ]
    },
    {
      "cell_type": "markdown",
      "source": [
        "Train a RF-Classifier model with IRIS dataset "
      ],
      "metadata": {
        "id": "eHC5FJr4trgD"
      }
    },
    {
      "cell_type": "code",
      "source": [
        "# Train a model.\n",
        "from sklearn.datasets import load_iris\n",
        "from sklearn.model_selection import train_test_split\n",
        "from sklearn.ensemble import RandomForestClassifier\n",
        "\n",
        "\n",
        "iris = load_iris()\n",
        "X, y = iris.data, iris.target\n",
        "X_train, X_test, y_train, y_test = train_test_split(X, y)\n",
        "clr = RandomForestClassifier()\n",
        "clr.fit(X_train, y_train)"
      ],
      "metadata": {
        "colab": {
          "base_uri": "https://localhost:8080/"
        },
        "id": "2iQA7DbJtt2b",
        "outputId": "272a835a-e439-40ff-eefb-d82fa61e0367"
      },
      "execution_count": 33,
      "outputs": [
        {
          "output_type": "execute_result",
          "data": {
            "text/plain": [
              "RandomForestClassifier()"
            ]
          },
          "metadata": {},
          "execution_count": 33
        }
      ]
    },
    {
      "cell_type": "markdown",
      "source": [
        "Convert model to ONNX"
      ],
      "metadata": {
        "id": "EwlYI607tuGH"
      }
    },
    {
      "cell_type": "code",
      "source": [
        "from skl2onnx import convert_sklearn\n",
        "from skl2onnx.common.data_types import FloatTensorType\n",
        "\n",
        "# convert model\n",
        "initial_type = [('float_input', FloatTensorType([None, 4]))]\n",
        "onx = convert_sklearn(clr, initial_types=initial_type)\n",
        "\n",
        "# save model\n",
        "with open(\"/content/rf_iris.onnx\", \"wb\") as f:\n",
        "    f.write(onx.SerializeToString())\n",
        "\n"
      ],
      "metadata": {
        "id": "TvXIDtK2t43j"
      },
      "execution_count": 34,
      "outputs": []
    },
    {
      "cell_type": "code",
      "source": [
        "# Compute the prediction with ONNX Runtime\n",
        "import onnxruntime as rt\n",
        "import numpy\n",
        "\n",
        "sess = rt.InferenceSession(\"/content/rf_iris.onnx\")\n",
        "input_name = sess.get_inputs()[0].name\n",
        "label_name = sess.get_outputs()[0].name\n",
        "pred_onx = sess.run([label_name], {input_name: X_test.astype(numpy.float32)})\n",
        "\n",
        "\n",
        "# pred of sklearn model\n",
        "pred_skl = clr.predict(X_test)\n",
        "\n",
        "count=0\n",
        "for ort_res, tf_res in zip(pred_skl, pred_onx):\n",
        "  try:\n",
        "    np.testing.assert_allclose(ort_res, tf_res, rtol=1e-5, atol=1e-5)\n",
        "  except:\n",
        "    count+=1\n",
        "\n",
        "print(\"Results have {count} not match in total {total} sample\".format(count=count, total=len(X_test)))"
      ],
      "metadata": {
        "colab": {
          "base_uri": "https://localhost:8080/"
        },
        "id": "Dgp4C22jt_Ho",
        "outputId": "e09d11a5-21f1-42f4-b079-3d1fd61c5dcb"
      },
      "execution_count": 49,
      "outputs": [
        {
          "output_type": "stream",
          "name": "stdout",
          "text": [
            "Results have 1 not match in total 38 sample\n"
          ]
        }
      ]
    }
  ]
}