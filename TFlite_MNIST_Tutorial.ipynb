{
  "nbformat": 4,
  "nbformat_minor": 0,
  "metadata": {
    "colab": {
      "name": "TFlite_MNIST_Tutorial.ipynb",
      "provenance": [],
      "collapsed_sections": [],
      "authorship_tag": "ABX9TyMKG1Asnjj/NYPzHwgGg8xA",
      "include_colab_link": true
    },
    "kernelspec": {
      "name": "python3",
      "display_name": "Python 3"
    },
    "language_info": {
      "name": "python"
    },
    "accelerator": "GPU"
  },
  "cells": [
    {
      "cell_type": "markdown",
      "metadata": {
        "id": "view-in-github",
        "colab_type": "text"
      },
      "source": [
        "<a href=\"https://colab.research.google.com/github/ductt-1167/QuantizationTutorial/blob/main/TFlite_MNIST_Tutorial.ipynb\" target=\"_parent\"><img src=\"https://colab.research.google.com/assets/colab-badge.svg\" alt=\"Open In Colab\"/></a>"
      ]
    },
    {
      "cell_type": "markdown",
      "source": [
        "# Thử nghiệm sử dụng TFlite\n",
        "Với mô hình, trong đó mô hình chứa cả LSTM layer, trên tập dataset MNIST "
      ],
      "metadata": {
        "id": "6wuYFLZdqMkx"
      }
    },
    {
      "cell_type": "markdown",
      "source": [
        "# Build MNIST LSTM model"
      ],
      "metadata": {
        "id": "Z2gSXMZX33Wj"
      }
    },
    {
      "cell_type": "code",
      "execution_count": 1,
      "metadata": {
        "id": "ijl1TohapFHn"
      },
      "outputs": [],
      "source": [
        "import numpy as np\n",
        "import tensorflow as tf"
      ]
    },
    {
      "cell_type": "code",
      "source": [
        "#@title Build model\n",
        "model = tf.keras.models.Sequential([\n",
        "    tf.keras.layers.Input(shape=(28, 28), name='input'),\n",
        "    tf.keras.layers.LSTM(20, time_major=False, return_sequences=True),\n",
        "    tf.keras.layers.Flatten(),\n",
        "    tf.keras.layers.Dense(10, activation='softmax', name='output')\n",
        "])\n",
        "model.compile(optimizer='adam',\n",
        "              loss='sparse_categorical_crossentropy',\n",
        "              metrics=['accuracy'])\n",
        "model.summary()"
      ],
      "metadata": {
        "colab": {
          "base_uri": "https://localhost:8080/"
        },
        "id": "PMN7bSik37RP",
        "outputId": "959adb10-4041-49d5-8da0-c276c8f58ad7"
      },
      "execution_count": 2,
      "outputs": [
        {
          "output_type": "stream",
          "name": "stdout",
          "text": [
            "Model: \"sequential\"\n",
            "_________________________________________________________________\n",
            " Layer (type)                Output Shape              Param #   \n",
            "=================================================================\n",
            " lstm (LSTM)                 (None, 28, 20)            3920      \n",
            "                                                                 \n",
            " flatten (Flatten)           (None, 560)               0         \n",
            "                                                                 \n",
            " output (Dense)              (None, 10)                5610      \n",
            "                                                                 \n",
            "=================================================================\n",
            "Total params: 9,530\n",
            "Trainable params: 9,530\n",
            "Non-trainable params: 0\n",
            "_________________________________________________________________\n"
          ]
        }
      ]
    },
    {
      "cell_type": "code",
      "source": [
        "#@title load MNIST dataset and training model\n",
        "# Load MNIST dataset.\n",
        "(x_train, y_train), (x_test, y_test) = tf.keras.datasets.mnist.load_data()\n",
        "x_train, x_test = x_train / 255.0, x_test / 255.0\n",
        "x_train = x_train.astype(np.float32)\n",
        "x_test = x_test.astype(np.float32)\n",
        "\n",
        "print(x_train.shape, type(x_train))\n",
        "\n",
        "# fit model\n",
        "EPOCHS=50\n",
        "BATCH_SIZE=64\n",
        "model.fit(x_train, y_train, epochs=EPOCHS, batch_size=BATCH_SIZE)\n",
        "model.evaluate(x_test, y_test, verbose=0)"
      ],
      "metadata": {
        "colab": {
          "base_uri": "https://localhost:8080/"
        },
        "id": "BWmN5cwQ38nm",
        "outputId": "f4423381-26e7-4189-ed51-aa084623cf02"
      },
      "execution_count": 4,
      "outputs": [
        {
          "output_type": "stream",
          "name": "stdout",
          "text": [
            "(60000, 28, 28) <class 'numpy.ndarray'>\n",
            "Epoch 1/50\n",
            "938/938 [==============================] - 14s 8ms/step - loss: 0.4231 - accuracy: 0.8767\n",
            "Epoch 2/50\n",
            "938/938 [==============================] - 7s 8ms/step - loss: 0.1529 - accuracy: 0.9551\n",
            "Epoch 3/50\n",
            "938/938 [==============================] - 7s 8ms/step - loss: 0.1142 - accuracy: 0.9659\n",
            "Epoch 4/50\n",
            "938/938 [==============================] - 7s 8ms/step - loss: 0.0939 - accuracy: 0.9715\n",
            "Epoch 5/50\n",
            "938/938 [==============================] - 7s 8ms/step - loss: 0.0808 - accuracy: 0.9755\n",
            "Epoch 6/50\n",
            "938/938 [==============================] - 10s 11ms/step - loss: 0.0712 - accuracy: 0.9786\n",
            "Epoch 7/50\n",
            "938/938 [==============================] - 10s 10ms/step - loss: 0.0645 - accuracy: 0.9798\n",
            "Epoch 8/50\n",
            "938/938 [==============================] - 7s 8ms/step - loss: 0.0583 - accuracy: 0.9816\n",
            "Epoch 9/50\n",
            "938/938 [==============================] - 7s 8ms/step - loss: 0.0535 - accuracy: 0.9834\n",
            "Epoch 10/50\n",
            "938/938 [==============================] - 7s 8ms/step - loss: 0.0494 - accuracy: 0.9846\n",
            "Epoch 11/50\n",
            "938/938 [==============================] - 7s 8ms/step - loss: 0.0458 - accuracy: 0.9859\n",
            "Epoch 12/50\n",
            "938/938 [==============================] - 7s 8ms/step - loss: 0.0426 - accuracy: 0.9871\n",
            "Epoch 13/50\n",
            "938/938 [==============================] - 7s 8ms/step - loss: 0.0405 - accuracy: 0.9878\n",
            "Epoch 14/50\n",
            "938/938 [==============================] - 7s 8ms/step - loss: 0.0391 - accuracy: 0.9879\n",
            "Epoch 15/50\n",
            "938/938 [==============================] - 7s 8ms/step - loss: 0.0363 - accuracy: 0.9883\n",
            "Epoch 16/50\n",
            "938/938 [==============================] - 7s 8ms/step - loss: 0.0344 - accuracy: 0.9891\n",
            "Epoch 17/50\n",
            "938/938 [==============================] - 7s 8ms/step - loss: 0.0331 - accuracy: 0.9894\n",
            "Epoch 18/50\n",
            "938/938 [==============================] - 7s 8ms/step - loss: 0.0309 - accuracy: 0.9907\n",
            "Epoch 19/50\n",
            "938/938 [==============================] - 8s 9ms/step - loss: 0.0298 - accuracy: 0.9907\n",
            "Epoch 20/50\n",
            "938/938 [==============================] - 7s 8ms/step - loss: 0.0278 - accuracy: 0.9916\n",
            "Epoch 21/50\n",
            "938/938 [==============================] - 7s 8ms/step - loss: 0.0268 - accuracy: 0.9922\n",
            "Epoch 22/50\n",
            "938/938 [==============================] - 7s 8ms/step - loss: 0.0259 - accuracy: 0.9923\n",
            "Epoch 23/50\n",
            "938/938 [==============================] - 7s 8ms/step - loss: 0.0240 - accuracy: 0.9927\n",
            "Epoch 24/50\n",
            "938/938 [==============================] - 7s 8ms/step - loss: 0.0237 - accuracy: 0.9928\n",
            "Epoch 25/50\n",
            "938/938 [==============================] - 7s 8ms/step - loss: 0.0227 - accuracy: 0.9933\n",
            "Epoch 26/50\n",
            "938/938 [==============================] - 7s 8ms/step - loss: 0.0216 - accuracy: 0.9933\n",
            "Epoch 27/50\n",
            "938/938 [==============================] - 7s 8ms/step - loss: 0.0205 - accuracy: 0.9944\n",
            "Epoch 28/50\n",
            "938/938 [==============================] - 7s 8ms/step - loss: 0.0198 - accuracy: 0.9942\n",
            "Epoch 29/50\n",
            "938/938 [==============================] - 8s 9ms/step - loss: 0.0186 - accuracy: 0.9945\n",
            "Epoch 30/50\n",
            "938/938 [==============================] - 9s 9ms/step - loss: 0.0189 - accuracy: 0.9944\n",
            "Epoch 31/50\n",
            "938/938 [==============================] - 8s 8ms/step - loss: 0.0179 - accuracy: 0.9949\n",
            "Epoch 32/50\n",
            "938/938 [==============================] - 8s 8ms/step - loss: 0.0171 - accuracy: 0.9948\n",
            "Epoch 33/50\n",
            "938/938 [==============================] - 7s 8ms/step - loss: 0.0166 - accuracy: 0.9952\n",
            "Epoch 34/50\n",
            "938/938 [==============================] - 7s 8ms/step - loss: 0.0158 - accuracy: 0.9955\n",
            "Epoch 35/50\n",
            "938/938 [==============================] - 7s 8ms/step - loss: 0.0152 - accuracy: 0.9957\n",
            "Epoch 36/50\n",
            "938/938 [==============================] - 9s 10ms/step - loss: 0.0143 - accuracy: 0.9959\n",
            "Epoch 37/50\n",
            "938/938 [==============================] - 9s 10ms/step - loss: 0.0146 - accuracy: 0.9958\n",
            "Epoch 38/50\n",
            "938/938 [==============================] - 7s 8ms/step - loss: 0.0135 - accuracy: 0.9961\n",
            "Epoch 39/50\n",
            "938/938 [==============================] - 9s 10ms/step - loss: 0.0132 - accuracy: 0.9962\n",
            "Epoch 40/50\n",
            "938/938 [==============================] - 7s 8ms/step - loss: 0.0122 - accuracy: 0.9965\n",
            "Epoch 41/50\n",
            "938/938 [==============================] - 7s 8ms/step - loss: 0.0122 - accuracy: 0.9965\n",
            "Epoch 42/50\n",
            "938/938 [==============================] - 7s 8ms/step - loss: 0.0115 - accuracy: 0.9967\n",
            "Epoch 43/50\n",
            "938/938 [==============================] - 7s 8ms/step - loss: 0.0114 - accuracy: 0.9970\n",
            "Epoch 44/50\n",
            "938/938 [==============================] - 7s 8ms/step - loss: 0.0105 - accuracy: 0.9971\n",
            "Epoch 45/50\n",
            "938/938 [==============================] - 7s 8ms/step - loss: 0.0107 - accuracy: 0.9971\n",
            "Epoch 46/50\n",
            "938/938 [==============================] - 7s 8ms/step - loss: 0.0100 - accuracy: 0.9970\n",
            "Epoch 47/50\n",
            "938/938 [==============================] - 7s 8ms/step - loss: 0.0095 - accuracy: 0.9973\n",
            "Epoch 48/50\n",
            "938/938 [==============================] - 7s 8ms/step - loss: 0.0091 - accuracy: 0.9976\n",
            "Epoch 49/50\n",
            "938/938 [==============================] - 7s 8ms/step - loss: 0.0091 - accuracy: 0.9976\n",
            "Epoch 50/50\n",
            "938/938 [==============================] - 7s 8ms/step - loss: 0.0083 - accuracy: 0.9978\n"
          ]
        },
        {
          "output_type": "execute_result",
          "data": {
            "text/plain": [
              "[0.06861316412687302, 0.9839000105857849]"
            ]
          },
          "metadata": {},
          "execution_count": 4
        }
      ]
    },
    {
      "cell_type": "markdown",
      "source": [
        "# Convert model to TFLite model"
      ],
      "metadata": {
        "id": "fSyytCrK41K3"
      }
    },
    {
      "cell_type": "code",
      "source": [
        "run_model = tf.function(lambda x: model(x))\n",
        "# This is important, let's FIX the input size.\n",
        "BATCH_SIZE = 1  \n",
        "STEPS = 28\n",
        "INPUT_SIZE = 28\n",
        "concrete_func = run_model.get_concrete_function(\n",
        "    tf.TensorSpec([BATCH_SIZE, STEPS, INPUT_SIZE], model.inputs[0].dtype))\n",
        "\n",
        "# model directory.\n",
        "MODEL_DIR = \"/content/keras_lstm\"\n",
        "model.save(MODEL_DIR, save_format=\"tf\", signatures=concrete_func)\n",
        "\n",
        "# convert\n",
        "converter = tf.lite.TFLiteConverter.from_saved_model(MODEL_DIR)\n",
        "tflite_model = converter.convert()"
      ],
      "metadata": {
        "colab": {
          "base_uri": "https://localhost:8080/"
        },
        "id": "3Rvp5K-w46t3",
        "outputId": "e14ddc9a-afd5-477b-c149-78584a4bf542"
      },
      "execution_count": 5,
      "outputs": [
        {
          "output_type": "stream",
          "name": "stderr",
          "text": [
            "WARNING:absl:Found untraced functions such as lstm_cell_layer_call_fn, lstm_cell_layer_call_and_return_conditional_losses while saving (showing 2 of 2). These functions will not be directly callable after loading.\n"
          ]
        },
        {
          "output_type": "stream",
          "name": "stdout",
          "text": [
            "INFO:tensorflow:Assets written to: /content/keras_lstm/assets\n"
          ]
        },
        {
          "output_type": "stream",
          "name": "stderr",
          "text": [
            "INFO:tensorflow:Assets written to: /content/keras_lstm/assets\n",
            "WARNING:absl:<keras.layers.recurrent.LSTMCell object at 0x7f5aabf3d490> has the same name 'LSTMCell' as a built-in Keras object. Consider renaming <class 'keras.layers.recurrent.LSTMCell'> to avoid naming conflicts when loading with `tf.keras.models.load_model`. If renaming is not possible, pass the object in the `custom_objects` parameter of the load function.\n",
            "WARNING:absl:Buffer deduplication procedure will be skipped when flatbuffer library is not properly loaded\n"
          ]
        }
      ]
    },
    {
      "cell_type": "markdown",
      "source": [
        "# Check the converted TensorFlow Lite model"
      ],
      "metadata": {
        "id": "sX5iF1rn52UI"
      }
    },
    {
      "cell_type": "code",
      "source": [
        "# Run the model with TensorFlow to get expected results.\n",
        "TEST_CASES = 10\n",
        "\n",
        "# Run the model with TensorFlow Lite\n",
        "interpreter = tf.lite.Interpreter(model_content=tflite_model)\n",
        "interpreter.allocate_tensors()\n",
        "input_details = interpreter.get_input_details()\n",
        "output_details = interpreter.get_output_details()\n",
        "\n",
        "for i in range(TEST_CASES):\n",
        "  expected = model.predict(x_test[i:i+1])\n",
        "  interpreter.set_tensor(input_details[0][\"index\"], x_test[i:i+1, :, :])\n",
        "  interpreter.invoke()\n",
        "  result = interpreter.get_tensor(output_details[0][\"index\"])\n",
        "\n",
        "  # Assert if the result of TFLite model is consistent with the TF model.\n",
        "  np.testing.assert_almost_equal(expected, result, decimal=5)\n",
        "  print(\"Done. The result of TensorFlow matches the result of TensorFlow Lite.\")\n",
        "\n",
        "  # Please note: TfLite fused Lstm kernel is stateful, so we need to reset\n",
        "  # the states.\n",
        "  # Clean up internal states.\n",
        "  interpreter.reset_all_variables()"
      ],
      "metadata": {
        "colab": {
          "base_uri": "https://localhost:8080/"
        },
        "id": "RNMOFTme510z",
        "outputId": "b6231d56-cf04-420a-9b91-74d5a764772d"
      },
      "execution_count": 6,
      "outputs": [
        {
          "output_type": "stream",
          "name": "stdout",
          "text": [
            "Done. The result of TensorFlow matches the result of TensorFlow Lite.\n",
            "Done. The result of TensorFlow matches the result of TensorFlow Lite.\n",
            "Done. The result of TensorFlow matches the result of TensorFlow Lite.\n",
            "Done. The result of TensorFlow matches the result of TensorFlow Lite.\n",
            "Done. The result of TensorFlow matches the result of TensorFlow Lite.\n",
            "Done. The result of TensorFlow matches the result of TensorFlow Lite.\n",
            "Done. The result of TensorFlow matches the result of TensorFlow Lite.\n",
            "Done. The result of TensorFlow matches the result of TensorFlow Lite.\n",
            "Done. The result of TensorFlow matches the result of TensorFlow Lite.\n",
            "Done. The result of TensorFlow matches the result of TensorFlow Lite.\n"
          ]
        }
      ]
    }
  ]
}